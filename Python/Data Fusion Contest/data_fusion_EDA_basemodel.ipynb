{
 "cells": [
  {
   "cell_type": "code",
   "execution_count": 1,
   "metadata": {},
   "outputs": [],
   "source": [
    "import pandas as pd"
   ]
  },
  {
   "cell_type": "code",
   "execution_count": 2,
   "metadata": {},
   "outputs": [],
   "source": [
    "from sklearn.linear_model import LogisticRegression\n",
    "from sklearn.model_selection import cross_val_score\n",
    "from sklearn.feature_extraction.text import TfidfVectorizer\n",
    "from nltk.corpus import stopwords "
   ]
  },
  {
   "cell_type": "code",
   "execution_count": 3,
   "metadata": {},
   "outputs": [
    {
     "name": "stdout",
     "output_type": "stream",
     "text": [
      "Wall time: 16.6 s\n"
     ]
    }
   ],
   "source": [
    "%%time\n",
    "train = pd.read_parquet('data_fusion_train.parquet')"
   ]
  },
  {
   "cell_type": "code",
   "execution_count": 4,
   "metadata": {},
   "outputs": [
    {
     "data": {
      "text/plain": [
       "(26094077, 9)"
      ]
     },
     "execution_count": 4,
     "metadata": {},
     "output_type": "execute_result"
    }
   ],
   "source": [
    "train.shape"
   ]
  },
  {
   "cell_type": "code",
   "execution_count": 5,
   "metadata": {},
   "outputs": [],
   "source": [
    "train = train[train.category_id != -1].drop_duplicates('item_name')"
   ]
  },
  {
   "cell_type": "code",
   "execution_count": 6,
   "metadata": {},
   "outputs": [
    {
     "data": {
      "text/plain": [
       "(48225, 9)"
      ]
     },
     "execution_count": 6,
     "metadata": {},
     "output_type": "execute_result"
    }
   ],
   "source": [
    "train.shape"
   ]
  },
  {
   "cell_type": "code",
   "execution_count": 5,
   "metadata": {},
   "outputs": [
    {
     "data": {
      "text/plain": [
       "receipt_id             int64\n",
       "receipt_dayofweek      int32\n",
       "receipt_time          object\n",
       "item_name             object\n",
       "item_quantity        float64\n",
       "item_price             int64\n",
       "item_nds_rate          int32\n",
       "category_id            int64\n",
       "brands                object\n",
       "dtype: object"
      ]
     },
     "execution_count": 5,
     "metadata": {},
     "output_type": "execute_result"
    }
   ],
   "source": [
    "train.dtypes"
   ]
  },
  {
   "cell_type": "code",
   "execution_count": 6,
   "metadata": {},
   "outputs": [
    {
     "data": {
      "text/html": [
       "<div>\n",
       "<style scoped>\n",
       "    .dataframe tbody tr th:only-of-type {\n",
       "        vertical-align: middle;\n",
       "    }\n",
       "\n",
       "    .dataframe tbody tr th {\n",
       "        vertical-align: top;\n",
       "    }\n",
       "\n",
       "    .dataframe thead th {\n",
       "        text-align: right;\n",
       "    }\n",
       "</style>\n",
       "<table border=\"1\" class=\"dataframe\">\n",
       "  <thead>\n",
       "    <tr style=\"text-align: right;\">\n",
       "      <th></th>\n",
       "      <th>receipt_id</th>\n",
       "      <th>receipt_dayofweek</th>\n",
       "      <th>receipt_time</th>\n",
       "      <th>item_name</th>\n",
       "      <th>item_quantity</th>\n",
       "      <th>item_price</th>\n",
       "      <th>item_nds_rate</th>\n",
       "      <th>category_id</th>\n",
       "      <th>brands</th>\n",
       "    </tr>\n",
       "  </thead>\n",
       "  <tbody>\n",
       "    <tr>\n",
       "      <th>0</th>\n",
       "      <td>7</td>\n",
       "      <td>5</td>\n",
       "      <td>09:50</td>\n",
       "      <td>Флуконазол капс 150мг №1 Вертекс</td>\n",
       "      <td>1.0</td>\n",
       "      <td>7</td>\n",
       "      <td>-1</td>\n",
       "      <td>-1</td>\n",
       "      <td>вертекс</td>\n",
       "    </tr>\n",
       "    <tr>\n",
       "      <th>1</th>\n",
       "      <td>11</td>\n",
       "      <td>6</td>\n",
       "      <td>20:34</td>\n",
       "      <td>Молоко 3,2%,шт</td>\n",
       "      <td>2.0</td>\n",
       "      <td>8</td>\n",
       "      <td>2</td>\n",
       "      <td>78</td>\n",
       "      <td>None</td>\n",
       "    </tr>\n",
       "    <tr>\n",
       "      <th>2</th>\n",
       "      <td>39</td>\n",
       "      <td>4</td>\n",
       "      <td>11:28</td>\n",
       "      <td>Борщ Станичный с тушенкой, 103 ккал (завод, з/у)</td>\n",
       "      <td>1.0</td>\n",
       "      <td>6</td>\n",
       "      <td>1</td>\n",
       "      <td>-1</td>\n",
       "      <td>None</td>\n",
       "    </tr>\n",
       "    <tr>\n",
       "      <th>3</th>\n",
       "      <td>39</td>\n",
       "      <td>4</td>\n",
       "      <td>11:28</td>\n",
       "      <td>Компот из изюма, 114 ккал</td>\n",
       "      <td>1.0</td>\n",
       "      <td>4</td>\n",
       "      <td>1</td>\n",
       "      <td>71</td>\n",
       "      <td>None</td>\n",
       "    </tr>\n",
       "    <tr>\n",
       "      <th>4</th>\n",
       "      <td>39</td>\n",
       "      <td>4</td>\n",
       "      <td>11:28</td>\n",
       "      <td>Макаронные изделия отварные (масло сливочное),...</td>\n",
       "      <td>1.0</td>\n",
       "      <td>4</td>\n",
       "      <td>1</td>\n",
       "      <td>71</td>\n",
       "      <td>None</td>\n",
       "    </tr>\n",
       "    <tr>\n",
       "      <th>6</th>\n",
       "      <td>39</td>\n",
       "      <td>4</td>\n",
       "      <td>11:28</td>\n",
       "      <td>Филе Горизонт (филе птицы), 218 ккал</td>\n",
       "      <td>1.0</td>\n",
       "      <td>7</td>\n",
       "      <td>1</td>\n",
       "      <td>-1</td>\n",
       "      <td>горизонт</td>\n",
       "    </tr>\n",
       "    <tr>\n",
       "      <th>10</th>\n",
       "      <td>49</td>\n",
       "      <td>3</td>\n",
       "      <td>14:27</td>\n",
       "      <td>3  Бумага Упак 1/Прочи/В асс</td>\n",
       "      <td>1.0</td>\n",
       "      <td>8</td>\n",
       "      <td>1</td>\n",
       "      <td>-1</td>\n",
       "      <td>None</td>\n",
       "    </tr>\n",
       "    <tr>\n",
       "      <th>11</th>\n",
       "      <td>49</td>\n",
       "      <td>3</td>\n",
       "      <td>14:27</td>\n",
       "      <td>4  Бумага Упак 1/Прочи/В асс</td>\n",
       "      <td>1.0</td>\n",
       "      <td>8</td>\n",
       "      <td>1</td>\n",
       "      <td>-1</td>\n",
       "      <td>None</td>\n",
       "    </tr>\n",
       "    <tr>\n",
       "      <th>12</th>\n",
       "      <td>49</td>\n",
       "      <td>3</td>\n",
       "      <td>14:27</td>\n",
       "      <td>Брюки спорт мал SAMO M-1016</td>\n",
       "      <td>1.0</td>\n",
       "      <td>13</td>\n",
       "      <td>6</td>\n",
       "      <td>-1</td>\n",
       "      <td>None</td>\n",
       "    </tr>\n",
       "    <tr>\n",
       "      <th>13</th>\n",
       "      <td>49</td>\n",
       "      <td>3</td>\n",
       "      <td>14:27</td>\n",
       "      <td>Бюстгальтер БН137</td>\n",
       "      <td>1.0</td>\n",
       "      <td>13</td>\n",
       "      <td>-1</td>\n",
       "      <td>-1</td>\n",
       "      <td>None</td>\n",
       "    </tr>\n",
       "  </tbody>\n",
       "</table>\n",
       "</div>"
      ],
      "text/plain": [
       "    receipt_id  receipt_dayofweek receipt_time  \\\n",
       "0            7                  5        09:50   \n",
       "1           11                  6        20:34   \n",
       "2           39                  4        11:28   \n",
       "3           39                  4        11:28   \n",
       "4           39                  4        11:28   \n",
       "6           39                  4        11:28   \n",
       "10          49                  3        14:27   \n",
       "11          49                  3        14:27   \n",
       "12          49                  3        14:27   \n",
       "13          49                  3        14:27   \n",
       "\n",
       "                                            item_name  item_quantity  \\\n",
       "0                    Флуконазол капс 150мг №1 Вертекс            1.0   \n",
       "1                                      Молоко 3,2%,шт            2.0   \n",
       "2    Борщ Станичный с тушенкой, 103 ккал (завод, з/у)            1.0   \n",
       "3                           Компот из изюма, 114 ккал            1.0   \n",
       "4   Макаронные изделия отварные (масло сливочное),...            1.0   \n",
       "6                Филе Горизонт (филе птицы), 218 ккал            1.0   \n",
       "10                       3  Бумага Упак 1/Прочи/В асс            1.0   \n",
       "11                       4  Бумага Упак 1/Прочи/В асс            1.0   \n",
       "12                        Брюки спорт мал SAMO M-1016            1.0   \n",
       "13                                  Бюстгальтер БН137            1.0   \n",
       "\n",
       "    item_price  item_nds_rate  category_id    brands  \n",
       "0            7             -1           -1   вертекс  \n",
       "1            8              2           78      None  \n",
       "2            6              1           -1      None  \n",
       "3            4              1           71      None  \n",
       "4            4              1           71      None  \n",
       "6            7              1           -1  горизонт  \n",
       "10           8              1           -1      None  \n",
       "11           8              1           -1      None  \n",
       "12          13              6           -1      None  \n",
       "13          13             -1           -1      None  "
      ]
     },
     "execution_count": 6,
     "metadata": {},
     "output_type": "execute_result"
    }
   ],
   "source": [
    "train.head(10)"
   ]
  },
  {
   "cell_type": "code",
   "execution_count": 12,
   "metadata": {},
   "outputs": [
    {
     "data": {
      "text/plain": [
       "96"
      ]
     },
     "execution_count": 12,
     "metadata": {},
     "output_type": "execute_result"
    }
   ],
   "source": [
    "train.category_id.nunique()"
   ]
  },
  {
   "cell_type": "code",
   "execution_count": 13,
   "metadata": {},
   "outputs": [
    {
     "data": {
      "text/plain": [
       "<matplotlib.axes._subplots.AxesSubplot at 0x1a47ee6c308>"
      ]
     },
     "execution_count": 13,
     "metadata": {},
     "output_type": "execute_result"
    },
    {
     "data": {
      "image/png": "[encoded data removed]",
      "text/plain": [
       "<Figure size 432x288 with 1 Axes>"
      ]
     },
     "metadata": {
      "needs_background": "light"
     },
     "output_type": "display_data"
    }
   ],
   "source": [
    "train.category_id.hist()"
   ]
  },
  {
   "cell_type": "code",
   "execution_count": 16,
   "metadata": {},
   "outputs": [
    {
     "data": {
      "text/plain": [
       "2504"
      ]
     },
     "execution_count": 16,
     "metadata": {},
     "output_type": "execute_result"
    }
   ],
   "source": [
    "train.brands.nunique()"
   ]
  },
  {
   "cell_type": "code",
   "execution_count": 18,
   "metadata": {},
   "outputs": [
    {
     "data": {
      "text/plain": [
       "array([None, 'zewa', 'кока-кола', ..., 'леди джем', 'puff', 'тот'],\n",
       "      dtype=object)"
      ]
     },
     "execution_count": 18,
     "metadata": {},
     "output_type": "execute_result"
    }
   ],
   "source": [
    "train.brands.unique()"
   ]
  },
  {
   "cell_type": "code",
   "execution_count": 40,
   "metadata": {},
   "outputs": [
    {
     "data": {
      "text/plain": [
       "48225"
      ]
     },
     "execution_count": 40,
     "metadata": {},
     "output_type": "execute_result"
    }
   ],
   "source": [
    "len(train[ train.brands != None])"
   ]
  },
  {
   "cell_type": "code",
   "execution_count": 19,
   "metadata": {},
   "outputs": [
    {
     "data": {
      "text/plain": [
       "7"
      ]
     },
     "execution_count": 19,
     "metadata": {},
     "output_type": "execute_result"
    }
   ],
   "source": [
    "train.item_nds_rate.nunique()"
   ]
  },
  {
   "cell_type": "code",
   "execution_count": 20,
   "metadata": {},
   "outputs": [
    {
     "data": {
      "text/plain": [
       "array([ 2,  1, -1,  6,  5,  4,  3])"
      ]
     },
     "execution_count": 20,
     "metadata": {},
     "output_type": "execute_result"
    }
   ],
   "source": [
    "train.item_nds_rate.unique()"
   ]
  },
  {
   "cell_type": "code",
   "execution_count": 23,
   "metadata": {},
   "outputs": [
    {
     "data": {
      "text/plain": [
       "<matplotlib.axes._subplots.AxesSubplot at 0x1a47f9780c8>"
      ]
     },
     "execution_count": 23,
     "metadata": {},
     "output_type": "execute_result"
    },
    {
     "data": {
      "image/png": "[encoded data removed]",
      "text/plain": [
       "<Figure size 432x288 with 1 Axes>"
      ]
     },
     "metadata": {
      "needs_background": "light"
     },
     "output_type": "display_data"
    }
   ],
   "source": [
    "train.item_quantity.hist(bins=5)"
   ]
  },
  {
   "cell_type": "code",
   "execution_count": 25,
   "metadata": {},
   "outputs": [
    {
     "data": {
      "text/plain": [
       "2071"
      ]
     },
     "execution_count": 25,
     "metadata": {},
     "output_type": "execute_result"
    }
   ],
   "source": [
    "train.item_quantity.nunique()"
   ]
  },
  {
   "cell_type": "code",
   "execution_count": 31,
   "metadata": {},
   "outputs": [
    {
     "data": {
      "text/plain": [
       "count    48225.000000\n",
       "mean         1.957514\n",
       "std         17.629286\n",
       "min          0.005000\n",
       "25%          1.000000\n",
       "50%          1.000000\n",
       "75%          1.000000\n",
       "max       2000.000000\n",
       "Name: item_quantity, dtype: float64"
      ]
     },
     "execution_count": 31,
     "metadata": {},
     "output_type": "execute_result"
    }
   ],
   "source": [
    "train.item_quantity.describe()"
   ]
  },
  {
   "cell_type": "code",
   "execution_count": 27,
   "metadata": {},
   "outputs": [
    {
     "data": {
      "text/plain": [
       "<matplotlib.axes._subplots.AxesSubplot at 0x1a400964488>"
      ]
     },
     "execution_count": 27,
     "metadata": {},
     "output_type": "execute_result"
    },
    {
     "data": {
      "image/png": "[encoded data removed]",
      "text/plain": [
       "<Figure size 432x288 with 1 Axes>"
      ]
     },
     "metadata": {
      "needs_background": "light"
     },
     "output_type": "display_data"
    }
   ],
   "source": [
    "train.item_price.hist()"
   ]
  },
  {
   "cell_type": "code",
   "execution_count": 30,
   "metadata": {},
   "outputs": [
    {
     "data": {
      "text/plain": [
       "count    48225.000000\n",
       "mean         9.681472\n",
       "std          3.576853\n",
       "min          0.000000\n",
       "25%          7.000000\n",
       "50%          9.000000\n",
       "75%         12.000000\n",
       "max         35.000000\n",
       "Name: item_price, dtype: float64"
      ]
     },
     "execution_count": 30,
     "metadata": {},
     "output_type": "execute_result"
    }
   ],
   "source": [
    "train.item_price.describe()"
   ]
  },
  {
   "cell_type": "code",
   "execution_count": 33,
   "metadata": {},
   "outputs": [
    {
     "data": {
      "text/plain": [
       "count    48225.000000\n",
       "mean         3.058580\n",
       "std          1.979068\n",
       "min          0.000000\n",
       "25%          1.000000\n",
       "50%          3.000000\n",
       "75%          5.000000\n",
       "max          6.000000\n",
       "Name: receipt_dayofweek, dtype: float64"
      ]
     },
     "execution_count": 33,
     "metadata": {},
     "output_type": "execute_result"
    }
   ],
   "source": [
    "train.receipt_dayofweek.describe()"
   ]
  },
  {
   "cell_type": "code",
   "execution_count": 34,
   "metadata": {},
   "outputs": [
    {
     "data": {
      "text/plain": [
       "<matplotlib.axes._subplots.AxesSubplot at 0x1a47f45fb08>"
      ]
     },
     "execution_count": 34,
     "metadata": {},
     "output_type": "execute_result"
    },
    {
     "data": {
      "image/png": "[encoded data removed]",
      "text/plain": [
       "<Figure size 432x288 with 1 Axes>"
      ]
     },
     "metadata": {
      "needs_background": "light"
     },
     "output_type": "display_data"
    }
   ],
   "source": [
    "train.receipt_dayofweek.hist()"
   ]
  },
  {
   "cell_type": "code",
   "execution_count": null,
   "metadata": {},
   "outputs": [],
   "source": []
  },
  {
   "cell_type": "code",
   "execution_count": 4,
   "metadata": {},
   "outputs": [],
   "source": [
    "stop = stopwords.words('russian')\n",
    "tfidf = TfidfVectorizer(stop_words=stop, max_features=1000)\n",
    "X_train = tfidf.fit_transform(train.item_name)"
   ]
  },
  {
   "cell_type": "code",
   "execution_count": 5,
   "metadata": {},
   "outputs": [
    {
     "data": {
      "text/plain": [
       "array([0.64342123, 0.62681385, 0.5955667 ])"
      ]
     },
     "execution_count": 5,
     "metadata": {},
     "output_type": "execute_result"
    }
   ],
   "source": [
    "clf = LogisticRegression(max_iter=400)\n",
    "cross_val_score(clf, X_train, train.category_id, cv=3, scoring='f1_weighted')"
   ]
  },
  {
   "cell_type": "code",
   "execution_count": 6,
   "metadata": {},
   "outputs": [
    {
     "data": {
      "text/plain": [
       "LogisticRegression(C=1.0, class_weight=None, dual=False, fit_intercept=True,\n",
       "                   intercept_scaling=1, l1_ratio=None, max_iter=400,\n",
       "                   multi_class='auto', n_jobs=None, penalty='l2',\n",
       "                   random_state=None, solver='lbfgs', tol=0.0001, verbose=0,\n",
       "                   warm_start=False)"
      ]
     },
     "execution_count": 6,
     "metadata": {},
     "output_type": "execute_result"
    }
   ],
   "source": [
    "clf.fit(X_train, train.category_id)"
   ]
  },
  {
   "cell_type": "code",
   "execution_count": 8,
   "metadata": {},
   "outputs": [],
   "source": [
    "import pickle\n",
    "pickle.dump(tfidf, open('tfidf', 'wb'))\n",
    "pickle.dump(clf, open('clf_task1', 'wb'))"
   ]
  },
  {
   "cell_type": "markdown",
   "metadata": {},
   "source": [
    "## NLP"
   ]
  },
  {
   "cell_type": "code",
   "execution_count": 4,
   "metadata": {},
   "outputs": [
    {
     "data": {
      "text/html": [
       "<div>\n",
       "<style scoped>\n",
       "    .dataframe tbody tr th:only-of-type {\n",
       "        vertical-align: middle;\n",
       "    }\n",
       "\n",
       "    .dataframe tbody tr th {\n",
       "        vertical-align: top;\n",
       "    }\n",
       "\n",
       "    .dataframe thead th {\n",
       "        text-align: right;\n",
       "    }\n",
       "</style>\n",
       "<table border=\"1\" class=\"dataframe\">\n",
       "  <thead>\n",
       "    <tr style=\"text-align: right;\">\n",
       "      <th></th>\n",
       "      <th>receipt_id</th>\n",
       "      <th>receipt_dayofweek</th>\n",
       "      <th>receipt_time</th>\n",
       "      <th>item_name</th>\n",
       "      <th>item_quantity</th>\n",
       "      <th>item_price</th>\n",
       "      <th>item_nds_rate</th>\n",
       "      <th>category_id</th>\n",
       "      <th>brands</th>\n",
       "    </tr>\n",
       "  </thead>\n",
       "  <tbody>\n",
       "    <tr>\n",
       "      <th>0</th>\n",
       "      <td>7</td>\n",
       "      <td>5</td>\n",
       "      <td>09:50</td>\n",
       "      <td>Флуконазол капс 150мг №1 Вертекс</td>\n",
       "      <td>1.0</td>\n",
       "      <td>7</td>\n",
       "      <td>-1</td>\n",
       "      <td>-1</td>\n",
       "      <td>вертекс</td>\n",
       "    </tr>\n",
       "    <tr>\n",
       "      <th>1</th>\n",
       "      <td>11</td>\n",
       "      <td>6</td>\n",
       "      <td>20:34</td>\n",
       "      <td>Молоко 3,2%,шт</td>\n",
       "      <td>2.0</td>\n",
       "      <td>8</td>\n",
       "      <td>2</td>\n",
       "      <td>78</td>\n",
       "      <td>None</td>\n",
       "    </tr>\n",
       "    <tr>\n",
       "      <th>2</th>\n",
       "      <td>39</td>\n",
       "      <td>4</td>\n",
       "      <td>11:28</td>\n",
       "      <td>Борщ Станичный с тушенкой, 103 ккал (завод, з/у)</td>\n",
       "      <td>1.0</td>\n",
       "      <td>6</td>\n",
       "      <td>1</td>\n",
       "      <td>-1</td>\n",
       "      <td>None</td>\n",
       "    </tr>\n",
       "    <tr>\n",
       "      <th>3</th>\n",
       "      <td>39</td>\n",
       "      <td>4</td>\n",
       "      <td>11:28</td>\n",
       "      <td>Компот из изюма, 114 ккал</td>\n",
       "      <td>1.0</td>\n",
       "      <td>4</td>\n",
       "      <td>1</td>\n",
       "      <td>71</td>\n",
       "      <td>None</td>\n",
       "    </tr>\n",
       "    <tr>\n",
       "      <th>4</th>\n",
       "      <td>39</td>\n",
       "      <td>4</td>\n",
       "      <td>11:28</td>\n",
       "      <td>Макаронные изделия отварные (масло сливочное),...</td>\n",
       "      <td>1.0</td>\n",
       "      <td>4</td>\n",
       "      <td>1</td>\n",
       "      <td>71</td>\n",
       "      <td>None</td>\n",
       "    </tr>\n",
       "  </tbody>\n",
       "</table>\n",
       "</div>"
      ],
      "text/plain": [
       "   receipt_id  receipt_dayofweek receipt_time  \\\n",
       "0           7                  5        09:50   \n",
       "1          11                  6        20:34   \n",
       "2          39                  4        11:28   \n",
       "3          39                  4        11:28   \n",
       "4          39                  4        11:28   \n",
       "\n",
       "                                           item_name  item_quantity  \\\n",
       "0                   Флуконазол капс 150мг №1 Вертекс            1.0   \n",
       "1                                     Молоко 3,2%,шт            2.0   \n",
       "2   Борщ Станичный с тушенкой, 103 ккал (завод, з/у)            1.0   \n",
       "3                          Компот из изюма, 114 ккал            1.0   \n",
       "4  Макаронные изделия отварные (масло сливочное),...            1.0   \n",
       "\n",
       "   item_price  item_nds_rate  category_id   brands  \n",
       "0           7             -1           -1  вертекс  \n",
       "1           8              2           78     None  \n",
       "2           6              1           -1     None  \n",
       "3           4              1           71     None  \n",
       "4           4              1           71     None  "
      ]
     },
     "execution_count": 4,
     "metadata": {},
     "output_type": "execute_result"
    }
   ],
   "source": [
    "train.head(5)"
   ]
  },
  {
   "cell_type": "code",
   "execution_count": 19,
   "metadata": {},
   "outputs": [
    {
     "data": {
      "text/plain": [
       "receipt_id             int64\n",
       "receipt_dayofweek      int32\n",
       "receipt_time          object\n",
       "item_name             object\n",
       "item_quantity        float64\n",
       "item_price             int64\n",
       "item_nds_rate          int32\n",
       "category_id            int64\n",
       "brands                object\n",
       "dtype: object"
      ]
     },
     "execution_count": 19,
     "metadata": {},
     "output_type": "execute_result"
    }
   ],
   "source": [
    "train.dtypes"
   ]
  },
  {
   "cell_type": "code",
   "execution_count": 5,
   "metadata": {},
   "outputs": [],
   "source": [
    "train.brands = train.brands.astype(str)"
   ]
  },
  {
   "cell_type": "code",
   "execution_count": 6,
   "metadata": {},
   "outputs": [],
   "source": [
    "train2 = train[ train['brands'] != 'None' ]"
   ]
  },
  {
   "cell_type": "code",
   "execution_count": 7,
   "metadata": {},
   "outputs": [
    {
     "data": {
      "text/plain": [
       "(6801308, 9)"
      ]
     },
     "execution_count": 7,
     "metadata": {},
     "output_type": "execute_result"
    }
   ],
   "source": [
    "train2.shape"
   ]
  },
  {
   "cell_type": "code",
   "execution_count": 20,
   "metadata": {},
   "outputs": [
    {
     "data": {
      "text/html": [
       "<div>\n",
       "<style scoped>\n",
       "    .dataframe tbody tr th:only-of-type {\n",
       "        vertical-align: middle;\n",
       "    }\n",
       "\n",
       "    .dataframe tbody tr th {\n",
       "        vertical-align: top;\n",
       "    }\n",
       "\n",
       "    .dataframe thead th {\n",
       "        text-align: right;\n",
       "    }\n",
       "</style>\n",
       "<table border=\"1\" class=\"dataframe\">\n",
       "  <thead>\n",
       "    <tr style=\"text-align: right;\">\n",
       "      <th></th>\n",
       "      <th>receipt_id</th>\n",
       "      <th>receipt_dayofweek</th>\n",
       "      <th>receipt_time</th>\n",
       "      <th>item_name</th>\n",
       "      <th>item_quantity</th>\n",
       "      <th>item_price</th>\n",
       "      <th>item_nds_rate</th>\n",
       "      <th>category_id</th>\n",
       "      <th>brands</th>\n",
       "    </tr>\n",
       "  </thead>\n",
       "  <tbody>\n",
       "    <tr>\n",
       "      <th>0</th>\n",
       "      <td>7</td>\n",
       "      <td>5</td>\n",
       "      <td>09:50</td>\n",
       "      <td>Флуконазол капс 150мг №1 Вертекс</td>\n",
       "      <td>1.000</td>\n",
       "      <td>7</td>\n",
       "      <td>-1</td>\n",
       "      <td>-1</td>\n",
       "      <td>вертекс</td>\n",
       "    </tr>\n",
       "    <tr>\n",
       "      <th>6</th>\n",
       "      <td>39</td>\n",
       "      <td>4</td>\n",
       "      <td>11:28</td>\n",
       "      <td>Филе Горизонт (филе птицы), 218 ккал</td>\n",
       "      <td>1.000</td>\n",
       "      <td>7</td>\n",
       "      <td>1</td>\n",
       "      <td>-1</td>\n",
       "      <td>горизонт</td>\n",
       "    </tr>\n",
       "    <tr>\n",
       "      <th>16</th>\n",
       "      <td>56</td>\n",
       "      <td>5</td>\n",
       "      <td>11:42</td>\n",
       "      <td>ЙогуртпитEPICAклуб/мар290</td>\n",
       "      <td>1.000</td>\n",
       "      <td>10</td>\n",
       "      <td>2</td>\n",
       "      <td>-1</td>\n",
       "      <td>epic</td>\n",
       "    </tr>\n",
       "    <tr>\n",
       "      <th>19</th>\n",
       "      <td>59</td>\n",
       "      <td>1</td>\n",
       "      <td>01:03</td>\n",
       "      <td>Напиток  Дюшес 0,65л  ПЭТ ОАО\"АЯН\" Респуб. Хак...</td>\n",
       "      <td>1.000</td>\n",
       "      <td>6</td>\n",
       "      <td>1</td>\n",
       "      <td>-1</td>\n",
       "      <td>аян</td>\n",
       "    </tr>\n",
       "    <tr>\n",
       "      <th>41</th>\n",
       "      <td>110</td>\n",
       "      <td>4</td>\n",
       "      <td>18:32</td>\n",
       "      <td>Чипсы Лейс сметана\\лук 40гр</td>\n",
       "      <td>1.000</td>\n",
       "      <td>6</td>\n",
       "      <td>1</td>\n",
       "      <td>-1</td>\n",
       "      <td>лейс</td>\n",
       "    </tr>\n",
       "    <tr>\n",
       "      <th>54</th>\n",
       "      <td>122</td>\n",
       "      <td>0</td>\n",
       "      <td>11:46</td>\n",
       "      <td>Сыр БЕЖИН ЛУГ плав ванн 50% 40</td>\n",
       "      <td>1.000</td>\n",
       "      <td>11</td>\n",
       "      <td>2</td>\n",
       "      <td>-1</td>\n",
       "      <td>бежин луг</td>\n",
       "    </tr>\n",
       "    <tr>\n",
       "      <th>76</th>\n",
       "      <td>139</td>\n",
       "      <td>4</td>\n",
       "      <td>20:23</td>\n",
       "      <td>Френч-пресс стекло/пластик 350мл Mallony</td>\n",
       "      <td>2.000</td>\n",
       "      <td>8</td>\n",
       "      <td>1</td>\n",
       "      <td>-1</td>\n",
       "      <td>mallony</td>\n",
       "    </tr>\n",
       "    <tr>\n",
       "      <th>78</th>\n",
       "      <td>187</td>\n",
       "      <td>2</td>\n",
       "      <td>10:52</td>\n",
       "      <td>БЗМЖ Пломбир на Печенье Каприз Шоколад 95 гр</td>\n",
       "      <td>1.000</td>\n",
       "      <td>8</td>\n",
       "      <td>6</td>\n",
       "      <td>-1</td>\n",
       "      <td>каприз</td>\n",
       "    </tr>\n",
       "    <tr>\n",
       "      <th>97</th>\n",
       "      <td>227</td>\n",
       "      <td>3</td>\n",
       "      <td>20:17</td>\n",
       "      <td>Пиво Велкопоповицкий Козел темное ж/б 3,7% 0,45л</td>\n",
       "      <td>1.000</td>\n",
       "      <td>9</td>\n",
       "      <td>6</td>\n",
       "      <td>-1</td>\n",
       "      <td>велкопоповицкий козел</td>\n",
       "    </tr>\n",
       "    <tr>\n",
       "      <th>99</th>\n",
       "      <td>227</td>\n",
       "      <td>3</td>\n",
       "      <td>20:17</td>\n",
       "      <td>Семечки от Мартина 100г соленые</td>\n",
       "      <td>1.000</td>\n",
       "      <td>8</td>\n",
       "      <td>6</td>\n",
       "      <td>-1</td>\n",
       "      <td>от мартина</td>\n",
       "    </tr>\n",
       "    <tr>\n",
       "      <th>117</th>\n",
       "      <td>308</td>\n",
       "      <td>5</td>\n",
       "      <td>09:29</td>\n",
       "      <td>CAMPINA FRUTTIS ПРОДУКТ ЙОГУРТНЫЙ СЛИВОЧНОЕ ЛАКО</td>\n",
       "      <td>4.000</td>\n",
       "      <td>6</td>\n",
       "      <td>2</td>\n",
       "      <td>-1</td>\n",
       "      <td>fruttis</td>\n",
       "    </tr>\n",
       "    <tr>\n",
       "      <th>121</th>\n",
       "      <td>308</td>\n",
       "      <td>5</td>\n",
       "      <td>09:29</td>\n",
       "      <td>ПРИНЦЕССА НУРИ ОТБОРНЫЙ ЧАЙ ЦЕЙЛОНСКИЙ ЧЕРНЫЙ БА</td>\n",
       "      <td>1.000</td>\n",
       "      <td>9</td>\n",
       "      <td>1</td>\n",
       "      <td>-1</td>\n",
       "      <td>принцесса нури</td>\n",
       "    </tr>\n",
       "    <tr>\n",
       "      <th>122</th>\n",
       "      <td>308</td>\n",
       "      <td>5</td>\n",
       "      <td>09:29</td>\n",
       "      <td>РЯБА МАЙОНЕЗ 233 Г 67 % ПРОВАНСАЛЬ ДОЙ-ПАК АО НМ</td>\n",
       "      <td>1.000</td>\n",
       "      <td>7</td>\n",
       "      <td>1</td>\n",
       "      <td>-1</td>\n",
       "      <td>провансаль</td>\n",
       "    </tr>\n",
       "    <tr>\n",
       "      <th>123</th>\n",
       "      <td>308</td>\n",
       "      <td>5</td>\n",
       "      <td>09:29</td>\n",
       "      <td>САХАР БЕЛЫЙ КРИСТАЛЛИЧЕСКИЙ 1 КГ АО \"АВРОРА\" Г.Л</td>\n",
       "      <td>1.012</td>\n",
       "      <td>7</td>\n",
       "      <td>2</td>\n",
       "      <td>-1</td>\n",
       "      <td>аврора</td>\n",
       "    </tr>\n",
       "    <tr>\n",
       "      <th>126</th>\n",
       "      <td>336</td>\n",
       "      <td>3</td>\n",
       "      <td>15:38</td>\n",
       "      <td>Каша овсяная Гудвилл 40г Малина</td>\n",
       "      <td>2.000</td>\n",
       "      <td>4</td>\n",
       "      <td>6</td>\n",
       "      <td>-1</td>\n",
       "      <td>гудвилл</td>\n",
       "    </tr>\n",
       "    <tr>\n",
       "      <th>130</th>\n",
       "      <td>343</td>\n",
       "      <td>3</td>\n",
       "      <td>22:16</td>\n",
       "      <td>*Dinner show 1000*</td>\n",
       "      <td>1.000</td>\n",
       "      <td>16</td>\n",
       "      <td>-1</td>\n",
       "      <td>-1</td>\n",
       "      <td>show</td>\n",
       "    </tr>\n",
       "    <tr>\n",
       "      <th>157</th>\n",
       "      <td>377</td>\n",
       "      <td>5</td>\n",
       "      <td>10:06</td>\n",
       "      <td>йогурт Чудо пит 2,4% 270г персик/манго/дыня</td>\n",
       "      <td>1.000</td>\n",
       "      <td>7</td>\n",
       "      <td>-1</td>\n",
       "      <td>-1</td>\n",
       "      <td>чудо</td>\n",
       "    </tr>\n",
       "    <tr>\n",
       "      <th>168</th>\n",
       "      <td>490</td>\n",
       "      <td>6</td>\n",
       "      <td>16:51</td>\n",
       "      <td>1,5Л ВОДА СВЯТОЙ ИСТОЧНИК Б/Г</td>\n",
       "      <td>2.000</td>\n",
       "      <td>11</td>\n",
       "      <td>1</td>\n",
       "      <td>-1</td>\n",
       "      <td>святой источник</td>\n",
       "    </tr>\n",
       "    <tr>\n",
       "      <th>169</th>\n",
       "      <td>490</td>\n",
       "      <td>6</td>\n",
       "      <td>16:51</td>\n",
       "      <td>12Р ZEWA ТБ 2СЛ БЕЛАЯ PLUS</td>\n",
       "      <td>1.000</td>\n",
       "      <td>12</td>\n",
       "      <td>1</td>\n",
       "      <td>117</td>\n",
       "      <td>zewa</td>\n",
       "    </tr>\n",
       "    <tr>\n",
       "      <th>171</th>\n",
       "      <td>490</td>\n",
       "      <td>6</td>\n",
       "      <td>16:51</td>\n",
       "      <td>3*20Г SNICKERS КРИСПЕР</td>\n",
       "      <td>1.000</td>\n",
       "      <td>7</td>\n",
       "      <td>1</td>\n",
       "      <td>-1</td>\n",
       "      <td>snickers</td>\n",
       "    </tr>\n",
       "    <tr>\n",
       "      <th>183</th>\n",
       "      <td>558</td>\n",
       "      <td>1</td>\n",
       "      <td>13:55</td>\n",
       "      <td>Белый  Медведь  Мацони  3,2% 330  гр стакан шт</td>\n",
       "      <td>1.000</td>\n",
       "      <td>7</td>\n",
       "      <td>6</td>\n",
       "      <td>-1</td>\n",
       "      <td>медведь</td>\n",
       "    </tr>\n",
       "    <tr>\n",
       "      <th>186</th>\n",
       "      <td>558</td>\n",
       "      <td>1</td>\n",
       "      <td>13:55</td>\n",
       "      <td>Практик  Ананасы  кусочки  580 мл шт</td>\n",
       "      <td>1.000</td>\n",
       "      <td>8</td>\n",
       "      <td>6</td>\n",
       "      <td>-1</td>\n",
       "      <td>практик</td>\n",
       "    </tr>\n",
       "    <tr>\n",
       "      <th>197</th>\n",
       "      <td>581</td>\n",
       "      <td>4</td>\n",
       "      <td>11:48</td>\n",
       "      <td>Энерг. нап. Адреналин Раш 0,25л ж/б (ПепсиКо)</td>\n",
       "      <td>1.000</td>\n",
       "      <td>10</td>\n",
       "      <td>1</td>\n",
       "      <td>-1</td>\n",
       "      <td>пепси</td>\n",
       "    </tr>\n",
       "    <tr>\n",
       "      <th>202</th>\n",
       "      <td>604</td>\n",
       "      <td>3</td>\n",
       "      <td>11:06</td>\n",
       "      <td>Сигареты Glamour Azure</td>\n",
       "      <td>1.000</td>\n",
       "      <td>11</td>\n",
       "      <td>6</td>\n",
       "      <td>-1</td>\n",
       "      <td>glamour</td>\n",
       "    </tr>\n",
       "    <tr>\n",
       "      <th>205</th>\n",
       "      <td>607</td>\n",
       "      <td>6</td>\n",
       "      <td>10:35</td>\n",
       "      <td>170Г DANONE ТВОРОЖ ПРС/АБРК БЗМЖ</td>\n",
       "      <td>3.000</td>\n",
       "      <td>7</td>\n",
       "      <td>2</td>\n",
       "      <td>-1</td>\n",
       "      <td>danone</td>\n",
       "    </tr>\n",
       "    <tr>\n",
       "      <th>211</th>\n",
       "      <td>612</td>\n",
       "      <td>3</td>\n",
       "      <td>18:07</td>\n",
       "      <td>Книги художественные в асс. ЭКСМО</td>\n",
       "      <td>2.000</td>\n",
       "      <td>9</td>\n",
       "      <td>2</td>\n",
       "      <td>-1</td>\n",
       "      <td>эксмо</td>\n",
       "    </tr>\n",
       "    <tr>\n",
       "      <th>213</th>\n",
       "      <td>615</td>\n",
       "      <td>3</td>\n",
       "      <td>20:35</td>\n",
       "      <td>Корейка свиная в/к б/к Традиционная Скиф</td>\n",
       "      <td>0.368</td>\n",
       "      <td>15</td>\n",
       "      <td>2</td>\n",
       "      <td>-1</td>\n",
       "      <td>скиф</td>\n",
       "    </tr>\n",
       "    <tr>\n",
       "      <th>214</th>\n",
       "      <td>615</td>\n",
       "      <td>3</td>\n",
       "      <td>20:35</td>\n",
       "      <td>ЛАКОМКА СЛИВОЧНАЯ90Г</td>\n",
       "      <td>10.000</td>\n",
       "      <td>7</td>\n",
       "      <td>2</td>\n",
       "      <td>-1</td>\n",
       "      <td>лакомка</td>\n",
       "    </tr>\n",
       "    <tr>\n",
       "      <th>242</th>\n",
       "      <td>699</td>\n",
       "      <td>4</td>\n",
       "      <td>20:20</td>\n",
       "      <td>КОКА-КОЛА СТД. СКОМБО</td>\n",
       "      <td>2.000</td>\n",
       "      <td>8</td>\n",
       "      <td>1</td>\n",
       "      <td>83</td>\n",
       "      <td>кока-кола</td>\n",
       "    </tr>\n",
       "    <tr>\n",
       "      <th>246</th>\n",
       "      <td>706</td>\n",
       "      <td>0</td>\n",
       "      <td>00:32</td>\n",
       "      <td>Кф.Золотой Степ 50г с орехом</td>\n",
       "      <td>3.000</td>\n",
       "      <td>5</td>\n",
       "      <td>1</td>\n",
       "      <td>84</td>\n",
       "      <td>золотой степ</td>\n",
       "    </tr>\n",
       "    <tr>\n",
       "      <th>247</th>\n",
       "      <td>706</td>\n",
       "      <td>0</td>\n",
       "      <td>00:32</td>\n",
       "      <td>Мария Булочка к чаю/изюм 250г уп</td>\n",
       "      <td>1.000</td>\n",
       "      <td>8</td>\n",
       "      <td>1</td>\n",
       "      <td>-1</td>\n",
       "      <td>мария</td>\n",
       "    </tr>\n",
       "    <tr>\n",
       "      <th>248</th>\n",
       "      <td>706</td>\n",
       "      <td>0</td>\n",
       "      <td>00:32</td>\n",
       "      <td>Мария Полоска песоч.100г уп.</td>\n",
       "      <td>1.000</td>\n",
       "      <td>6</td>\n",
       "      <td>1</td>\n",
       "      <td>-1</td>\n",
       "      <td>мария</td>\n",
       "    </tr>\n",
       "    <tr>\n",
       "      <th>251</th>\n",
       "      <td>706</td>\n",
       "      <td>0</td>\n",
       "      <td>00:32</td>\n",
       "      <td>ТИМ-ХЛЕБ Лаваш Матнакаш 0,4 уп.</td>\n",
       "      <td>1.000</td>\n",
       "      <td>7</td>\n",
       "      <td>2</td>\n",
       "      <td>-1</td>\n",
       "      <td>тим</td>\n",
       "    </tr>\n",
       "    <tr>\n",
       "      <th>254</th>\n",
       "      <td>716</td>\n",
       "      <td>5</td>\n",
       "      <td>17:08</td>\n",
       "      <td>Коктейль молочный ЧУДО Ягодное мороженое 2% 200г</td>\n",
       "      <td>1.000</td>\n",
       "      <td>7</td>\n",
       "      <td>2</td>\n",
       "      <td>-1</td>\n",
       "      <td>чудо</td>\n",
       "    </tr>\n",
       "    <tr>\n",
       "      <th>257</th>\n",
       "      <td>716</td>\n",
       "      <td>5</td>\n",
       "      <td>17:08</td>\n",
       "      <td>Рис НАЦИОНАЛЬ золотистый м/у 1500г</td>\n",
       "      <td>1.000</td>\n",
       "      <td>10</td>\n",
       "      <td>2</td>\n",
       "      <td>-1</td>\n",
       "      <td>националь</td>\n",
       "    </tr>\n",
       "    <tr>\n",
       "      <th>260</th>\n",
       "      <td>716</td>\n",
       "      <td>5</td>\n",
       "      <td>17:08</td>\n",
       "      <td>Холодец ХОЛОДУШКА Праздничный 250г</td>\n",
       "      <td>1.000</td>\n",
       "      <td>9</td>\n",
       "      <td>2</td>\n",
       "      <td>-1</td>\n",
       "      <td>холодушка</td>\n",
       "    </tr>\n",
       "    <tr>\n",
       "      <th>263</th>\n",
       "      <td>737</td>\n",
       "      <td>6</td>\n",
       "      <td>18:36</td>\n",
       "      <td>.Линейка 15 см Успех, гибкий пластик, ассо</td>\n",
       "      <td>1.000</td>\n",
       "      <td>7</td>\n",
       "      <td>6</td>\n",
       "      <td>-1</td>\n",
       "      <td>успех</td>\n",
       "    </tr>\n",
       "    <tr>\n",
       "      <th>266</th>\n",
       "      <td>737</td>\n",
       "      <td>6</td>\n",
       "      <td>18:36</td>\n",
       "      <td>Гуашь флюорисцентная ЛУЧ 1 баночка 20мл</td>\n",
       "      <td>1.000</td>\n",
       "      <td>8</td>\n",
       "      <td>6</td>\n",
       "      <td>-1</td>\n",
       "      <td>луч</td>\n",
       "    </tr>\n",
       "    <tr>\n",
       "      <th>275</th>\n",
       "      <td>737</td>\n",
       "      <td>6</td>\n",
       "      <td>18:36</td>\n",
       "      <td>Краски Гуашь 12 цв. 20ml Hatber-Прикольные кот...</td>\n",
       "      <td>1.000</td>\n",
       "      <td>12</td>\n",
       "      <td>6</td>\n",
       "      <td>-1</td>\n",
       "      <td>hatber</td>\n",
       "    </tr>\n",
       "    <tr>\n",
       "      <th>278</th>\n",
       "      <td>737</td>\n",
       "      <td>6</td>\n",
       "      <td>18:36</td>\n",
       "      <td>Папка-Уголок Пластиковая А5ф Hatber 180мкм Про...</td>\n",
       "      <td>1.000</td>\n",
       "      <td>4</td>\n",
       "      <td>6</td>\n",
       "      <td>-1</td>\n",
       "      <td>hatber</td>\n",
       "    </tr>\n",
       "    <tr>\n",
       "      <th>279</th>\n",
       "      <td>737</td>\n",
       "      <td>6</td>\n",
       "      <td>18:36</td>\n",
       "      <td>Пенал Hatber мягкий на молнии-Glamour-</td>\n",
       "      <td>1.000</td>\n",
       "      <td>11</td>\n",
       "      <td>6</td>\n",
       "      <td>-1</td>\n",
       "      <td>glamour</td>\n",
       "    </tr>\n",
       "    <tr>\n",
       "      <th>282</th>\n",
       "      <td>737</td>\n",
       "      <td>6</td>\n",
       "      <td>18:36</td>\n",
       "      <td>Ручка шариковая Global 0,5 мм синяя</td>\n",
       "      <td>5.000</td>\n",
       "      <td>6</td>\n",
       "      <td>6</td>\n",
       "      <td>-1</td>\n",
       "      <td>global</td>\n",
       "    </tr>\n",
       "    <tr>\n",
       "      <th>311</th>\n",
       "      <td>810</td>\n",
       "      <td>5</td>\n",
       "      <td>18:31</td>\n",
       "      <td>Колготки жен Glamour Microfiber 70ден р2 nero</td>\n",
       "      <td>1.000</td>\n",
       "      <td>11</td>\n",
       "      <td>1</td>\n",
       "      <td>-1</td>\n",
       "      <td>glamour</td>\n",
       "    </tr>\n",
       "    <tr>\n",
       "      <th>315</th>\n",
       "      <td>812</td>\n",
       "      <td>6</td>\n",
       "      <td>08:33</td>\n",
       "      <td>Шоколад БАБАЕВ.элит.75% 200г</td>\n",
       "      <td>1.000</td>\n",
       "      <td>12</td>\n",
       "      <td>1</td>\n",
       "      <td>-1</td>\n",
       "      <td>элит</td>\n",
       "    </tr>\n",
       "    <tr>\n",
       "      <th>332</th>\n",
       "      <td>842</td>\n",
       "      <td>5</td>\n",
       "      <td>19:32</td>\n",
       "      <td>Ручка шариковая Erich Krause 2шт синяя</td>\n",
       "      <td>1.000</td>\n",
       "      <td>8</td>\n",
       "      <td>1</td>\n",
       "      <td>-1</td>\n",
       "      <td>erich krause</td>\n",
       "    </tr>\n",
       "    <tr>\n",
       "      <th>335</th>\n",
       "      <td>842</td>\n",
       "      <td>5</td>\n",
       "      <td>19:32</td>\n",
       "      <td>Хлопья Nordic 4х зер</td>\n",
       "      <td>1.000</td>\n",
       "      <td>11</td>\n",
       "      <td>2</td>\n",
       "      <td>-1</td>\n",
       "      <td>nordic</td>\n",
       "    </tr>\n",
       "    <tr>\n",
       "      <th>339</th>\n",
       "      <td>845</td>\n",
       "      <td>0</td>\n",
       "      <td>21:05</td>\n",
       "      <td>Картофельные чипсы (Original) т.м. Pringles 70...</td>\n",
       "      <td>1.000</td>\n",
       "      <td>12</td>\n",
       "      <td>-1</td>\n",
       "      <td>-1</td>\n",
       "      <td>pringles</td>\n",
       "    </tr>\n",
       "    <tr>\n",
       "      <th>342</th>\n",
       "      <td>850</td>\n",
       "      <td>1</td>\n",
       "      <td>09:40</td>\n",
       "      <td>100Г МОРОЖ КРЕМ-БРЮЛЕ КИЗК БЗМЖ</td>\n",
       "      <td>3.000</td>\n",
       "      <td>7</td>\n",
       "      <td>2</td>\n",
       "      <td>-1</td>\n",
       "      <td>кизк</td>\n",
       "    </tr>\n",
       "    <tr>\n",
       "      <th>348</th>\n",
       "      <td>850</td>\n",
       "      <td>1</td>\n",
       "      <td>09:40</td>\n",
       "      <td>200Г LINDOR МОЛОЧНЫЙ</td>\n",
       "      <td>1.000</td>\n",
       "      <td>13</td>\n",
       "      <td>1</td>\n",
       "      <td>-1</td>\n",
       "      <td>lindor</td>\n",
       "    </tr>\n",
       "    <tr>\n",
       "      <th>350</th>\n",
       "      <td>850</td>\n",
       "      <td>1</td>\n",
       "      <td>09:40</td>\n",
       "      <td>200Г СЫР ПЛАВ ВИОЛА 4 СЫРА 50% БЗМЖ</td>\n",
       "      <td>1.000</td>\n",
       "      <td>10</td>\n",
       "      <td>2</td>\n",
       "      <td>-1</td>\n",
       "      <td>виола</td>\n",
       "    </tr>\n",
       "  </tbody>\n",
       "</table>\n",
       "</div>"
      ],
      "text/plain": [
       "     receipt_id  receipt_dayofweek receipt_time  \\\n",
       "0             7                  5        09:50   \n",
       "6            39                  4        11:28   \n",
       "16           56                  5        11:42   \n",
       "19           59                  1        01:03   \n",
       "41          110                  4        18:32   \n",
       "54          122                  0        11:46   \n",
       "76          139                  4        20:23   \n",
       "78          187                  2        10:52   \n",
       "97          227                  3        20:17   \n",
       "99          227                  3        20:17   \n",
       "117         308                  5        09:29   \n",
       "121         308                  5        09:29   \n",
       "122         308                  5        09:29   \n",
       "123         308                  5        09:29   \n",
       "126         336                  3        15:38   \n",
       "130         343                  3        22:16   \n",
       "157         377                  5        10:06   \n",
       "168         490                  6        16:51   \n",
       "169         490                  6        16:51   \n",
       "171         490                  6        16:51   \n",
       "183         558                  1        13:55   \n",
       "186         558                  1        13:55   \n",
       "197         581                  4        11:48   \n",
       "202         604                  3        11:06   \n",
       "205         607                  6        10:35   \n",
       "211         612                  3        18:07   \n",
       "213         615                  3        20:35   \n",
       "214         615                  3        20:35   \n",
       "242         699                  4        20:20   \n",
       "246         706                  0        00:32   \n",
       "247         706                  0        00:32   \n",
       "248         706                  0        00:32   \n",
       "251         706                  0        00:32   \n",
       "254         716                  5        17:08   \n",
       "257         716                  5        17:08   \n",
       "260         716                  5        17:08   \n",
       "263         737                  6        18:36   \n",
       "266         737                  6        18:36   \n",
       "275         737                  6        18:36   \n",
       "278         737                  6        18:36   \n",
       "279         737                  6        18:36   \n",
       "282         737                  6        18:36   \n",
       "311         810                  5        18:31   \n",
       "315         812                  6        08:33   \n",
       "332         842                  5        19:32   \n",
       "335         842                  5        19:32   \n",
       "339         845                  0        21:05   \n",
       "342         850                  1        09:40   \n",
       "348         850                  1        09:40   \n",
       "350         850                  1        09:40   \n",
       "\n",
       "                                             item_name  item_quantity  \\\n",
       "0                     Флуконазол капс 150мг №1 Вертекс          1.000   \n",
       "6                 Филе Горизонт (филе птицы), 218 ккал          1.000   \n",
       "16                           ЙогуртпитEPICAклуб/мар290          1.000   \n",
       "19   Напиток  Дюшес 0,65л  ПЭТ ОАО\"АЯН\" Респуб. Хак...          1.000   \n",
       "41                         Чипсы Лейс сметана\\лук 40гр          1.000   \n",
       "54                      Сыр БЕЖИН ЛУГ плав ванн 50% 40          1.000   \n",
       "76            Френч-пресс стекло/пластик 350мл Mallony          2.000   \n",
       "78        БЗМЖ Пломбир на Печенье Каприз Шоколад 95 гр          1.000   \n",
       "97    Пиво Велкопоповицкий Козел темное ж/б 3,7% 0,45л          1.000   \n",
       "99                     Семечки от Мартина 100г соленые          1.000   \n",
       "117   CAMPINA FRUTTIS ПРОДУКТ ЙОГУРТНЫЙ СЛИВОЧНОЕ ЛАКО          4.000   \n",
       "121   ПРИНЦЕССА НУРИ ОТБОРНЫЙ ЧАЙ ЦЕЙЛОНСКИЙ ЧЕРНЫЙ БА          1.000   \n",
       "122   РЯБА МАЙОНЕЗ 233 Г 67 % ПРОВАНСАЛЬ ДОЙ-ПАК АО НМ          1.000   \n",
       "123   САХАР БЕЛЫЙ КРИСТАЛЛИЧЕСКИЙ 1 КГ АО \"АВРОРА\" Г.Л          1.012   \n",
       "126                    Каша овсяная Гудвилл 40г Малина          2.000   \n",
       "130                                 *Dinner show 1000*          1.000   \n",
       "157        йогурт Чудо пит 2,4% 270г персик/манго/дыня          1.000   \n",
       "168                      1,5Л ВОДА СВЯТОЙ ИСТОЧНИК Б/Г          2.000   \n",
       "169                         12Р ZEWA ТБ 2СЛ БЕЛАЯ PLUS          1.000   \n",
       "171                             3*20Г SNICKERS КРИСПЕР          1.000   \n",
       "183     Белый  Медведь  Мацони  3,2% 330  гр стакан шт          1.000   \n",
       "186               Практик  Ананасы  кусочки  580 мл шт          1.000   \n",
       "197      Энерг. нап. Адреналин Раш 0,25л ж/б (ПепсиКо)          1.000   \n",
       "202                             Сигареты Glamour Azure          1.000   \n",
       "205                   170Г DANONE ТВОРОЖ ПРС/АБРК БЗМЖ          3.000   \n",
       "211                  Книги художественные в асс. ЭКСМО          2.000   \n",
       "213           Корейка свиная в/к б/к Традиционная Скиф          0.368   \n",
       "214                               ЛАКОМКА СЛИВОЧНАЯ90Г         10.000   \n",
       "242                              КОКА-КОЛА СТД. СКОМБО          2.000   \n",
       "246                       Кф.Золотой Степ 50г с орехом          3.000   \n",
       "247                   Мария Булочка к чаю/изюм 250г уп          1.000   \n",
       "248                       Мария Полоска песоч.100г уп.          1.000   \n",
       "251                    ТИМ-ХЛЕБ Лаваш Матнакаш 0,4 уп.          1.000   \n",
       "254   Коктейль молочный ЧУДО Ягодное мороженое 2% 200г          1.000   \n",
       "257                 Рис НАЦИОНАЛЬ золотистый м/у 1500г          1.000   \n",
       "260                 Холодец ХОЛОДУШКА Праздничный 250г          1.000   \n",
       "263         .Линейка 15 см Успех, гибкий пластик, ассо          1.000   \n",
       "266            Гуашь флюорисцентная ЛУЧ 1 баночка 20мл          1.000   \n",
       "275  Краски Гуашь 12 цв. 20ml Hatber-Прикольные кот...          1.000   \n",
       "278  Папка-Уголок Пластиковая А5ф Hatber 180мкм Про...          1.000   \n",
       "279             Пенал Hatber мягкий на молнии-Glamour-          1.000   \n",
       "282                Ручка шариковая Global 0,5 мм синяя          5.000   \n",
       "311      Колготки жен Glamour Microfiber 70ден р2 nero          1.000   \n",
       "315                       Шоколад БАБАЕВ.элит.75% 200г          1.000   \n",
       "332             Ручка шариковая Erich Krause 2шт синяя          1.000   \n",
       "335                              Хлопья Nordic 4х зер           1.000   \n",
       "339  Картофельные чипсы (Original) т.м. Pringles 70...          1.000   \n",
       "342                    100Г МОРОЖ КРЕМ-БРЮЛЕ КИЗК БЗМЖ          3.000   \n",
       "348                               200Г LINDOR МОЛОЧНЫЙ          1.000   \n",
       "350                200Г СЫР ПЛАВ ВИОЛА 4 СЫРА 50% БЗМЖ          1.000   \n",
       "\n",
       "     item_price  item_nds_rate  category_id                 brands  \n",
       "0             7             -1           -1                вертекс  \n",
       "6             7              1           -1               горизонт  \n",
       "16           10              2           -1                   epic  \n",
       "19            6              1           -1                    аян  \n",
       "41            6              1           -1                   лейс  \n",
       "54           11              2           -1              бежин луг  \n",
       "76            8              1           -1                mallony  \n",
       "78            8              6           -1                 каприз  \n",
       "97            9              6           -1  велкопоповицкий козел  \n",
       "99            8              6           -1             от мартина  \n",
       "117           6              2           -1                fruttis  \n",
       "121           9              1           -1         принцесса нури  \n",
       "122           7              1           -1             провансаль  \n",
       "123           7              2           -1                 аврора  \n",
       "126           4              6           -1                гудвилл  \n",
       "130          16             -1           -1                   show  \n",
       "157           7             -1           -1                   чудо  \n",
       "168          11              1           -1        святой источник  \n",
       "169          12              1          117                   zewa  \n",
       "171           7              1           -1               snickers  \n",
       "183           7              6           -1                медведь  \n",
       "186           8              6           -1                практик  \n",
       "197          10              1           -1                  пепси  \n",
       "202          11              6           -1                glamour  \n",
       "205           7              2           -1                 danone  \n",
       "211           9              2           -1                  эксмо  \n",
       "213          15              2           -1                   скиф  \n",
       "214           7              2           -1                лакомка  \n",
       "242           8              1           83              кока-кола  \n",
       "246           5              1           84           золотой степ  \n",
       "247           8              1           -1                  мария  \n",
       "248           6              1           -1                  мария  \n",
       "251           7              2           -1                    тим  \n",
       "254           7              2           -1                   чудо  \n",
       "257          10              2           -1              националь  \n",
       "260           9              2           -1              холодушка  \n",
       "263           7              6           -1                  успех  \n",
       "266           8              6           -1                    луч  \n",
       "275          12              6           -1                 hatber  \n",
       "278           4              6           -1                 hatber  \n",
       "279          11              6           -1                glamour  \n",
       "282           6              6           -1                 global  \n",
       "311          11              1           -1                glamour  \n",
       "315          12              1           -1                   элит  \n",
       "332           8              1           -1           erich krause  \n",
       "335          11              2           -1                 nordic  \n",
       "339          12             -1           -1               pringles  \n",
       "342           7              2           -1                   кизк  \n",
       "348          13              1           -1                 lindor  \n",
       "350          10              2           -1                  виола  "
      ]
     },
     "execution_count": 20,
     "metadata": {},
     "output_type": "execute_result"
    }
   ],
   "source": [
    "train2.head(50)"
   ]
  },
  {
   "cell_type": "code",
   "execution_count": 65,
   "metadata": {},
   "outputs": [
    {
     "data": {
      "text/plain": [
       "17424"
      ]
     },
     "execution_count": 65,
     "metadata": {},
     "output_type": "execute_result"
    }
   ],
   "source": [
    "len(set(train2.brands))"
   ]
  },
  {
   "cell_type": "code",
   "execution_count": null,
   "metadata": {},
   "outputs": [],
   "source": []
  },
  {
   "cell_type": "code",
   "execution_count": 9,
   "metadata": {},
   "outputs": [],
   "source": [
    "from nltk import word_tokenize\n",
    "from tqdm.auto import tqdm, trange"
   ]
  },
  {
   "cell_type": "code",
   "execution_count": 13,
   "metadata": {},
   "outputs": [],
   "source": [
    "russian_stopwords = stopwords.words(\"russian\")\n",
    "russian_stopwords.extend(['кг', 'г', 'гр', 'мг', 'ккал', 'л', 'мл', 'уп', 'шт', 'гр', 'капс'])"
   ]
  },
  {
   "cell_type": "code",
   "execution_count": 11,
   "metadata": {},
   "outputs": [
    {
     "name": "stdout",
     "output_type": "stream",
     "text": [
      "!\"#$%&'()*+,-./:;<=>?@[\\]^_`{|}~\n"
     ]
    }
   ],
   "source": [
    "import string\n",
    "\n",
    "print(string.punctuation)\n",
    "string.punctuation += '№'\n",
    "def remove_punctuation(text):\n",
    "    return \"\".join([ch if ch not in string.punctuation else ' ' for ch in text])\n",
    "\n",
    "def remove_numbers(text):\n",
    "    return ''.join([i if not i.isdigit() else ' ' for i in text])\n",
    "\n",
    "import re\n",
    "def remove_multiple_spaces(text):\n",
    "\treturn re.sub(r'\\s+', ' ', text, flags=re.I)"
   ]
  },
  {
   "cell_type": "code",
   "execution_count": 14,
   "metadata": {},
   "outputs": [
    {
     "data": {
      "application/vnd.jupyter.widget-view+json": {
       "model_id": "95503a3d02db4b2f95810adcc1a3c755",
       "version_major": 2,
       "version_minor": 0
      },
      "text/plain": [
       "HBox(children=(FloatProgress(value=0.0, max=6801308.0), HTML(value='')))"
      ]
     },
     "metadata": {},
     "output_type": "display_data"
    },
    {
     "name": "stdout",
     "output_type": "stream",
     "text": [
      "\n"
     ]
    }
   ],
   "source": [
    "## \n",
    "all_texts = ''\n",
    "for item_name in tqdm(train2.item_name):\n",
    "    all_texts += ' ' + item_name"
   ]
  },
  {
   "cell_type": "code",
   "execution_count": 15,
   "metadata": {},
   "outputs": [
    {
     "data": {
      "text/plain": [
       "250431592"
      ]
     },
     "execution_count": 15,
     "metadata": {},
     "output_type": "execute_result"
    }
   ],
   "source": [
    "len(all_texts)"
   ]
  },
  {
   "cell_type": "code",
   "execution_count": 16,
   "metadata": {},
   "outputs": [],
   "source": [
    "import codecs\n",
    "file = codecs.open(\"all_texts.txt\", \"w\", \"utf-8\")\n",
    "file.write(all_texts)\n",
    "file.close()"
   ]
  },
  {
   "cell_type": "code",
   "execution_count": 17,
   "metadata": {},
   "outputs": [],
   "source": [
    "all_texts2 = codecs.open(\"all_texts.txt\", \"r\", \"utf-8\").read()"
   ]
  },
  {
   "cell_type": "code",
   "execution_count": 18,
   "metadata": {},
   "outputs": [
    {
     "data": {
      "text/plain": [
       "250431592"
      ]
     },
     "execution_count": 18,
     "metadata": {},
     "output_type": "execute_result"
    }
   ],
   "source": [
    "len(all_texts2)"
   ]
  },
  {
   "cell_type": "code",
   "execution_count": 21,
   "metadata": {},
   "outputs": [
    {
     "data": {
      "text/plain": [
       "' Флуконазол капс 150мг №1 Вертекс Филе Горизонт (филе птицы), 218 ккал ЙогуртпитEPICAклуб/мар290 Нап'"
      ]
     },
     "execution_count": 21,
     "metadata": {},
     "output_type": "execute_result"
    }
   ],
   "source": [
    "all_texts2[:100]"
   ]
  },
  {
   "cell_type": "code",
   "execution_count": null,
   "metadata": {},
   "outputs": [],
   "source": [
    "all_texts2 = remove_punctuation(remove_numbers(remove_multiple_spaces(all_texts2)))"
   ]
  },
  {
   "cell_type": "code",
   "execution_count": 23,
   "metadata": {},
   "outputs": [],
   "source": [
    "all_texts_chunk = all_texts2[:100000]"
   ]
  },
  {
   "cell_type": "code",
   "execution_count": 24,
   "metadata": {},
   "outputs": [],
   "source": [
    "all_texts_chunk = remove_punctuation(remove_numbers(remove_multiple_spaces(all_texts_chunk)))"
   ]
  },
  {
   "cell_type": "code",
   "execution_count": 53,
   "metadata": {},
   "outputs": [],
   "source": [
    "all_texts_chunk = all_texts_chunk.lower()"
   ]
  },
  {
   "cell_type": "code",
   "execution_count": 54,
   "metadata": {},
   "outputs": [
    {
     "data": {
      "text/plain": [
       "' флуконазол капс    мг    вертекс филе горизонт  филе птицы       ккал йогуртпитepicaклуб мар    нап'"
      ]
     },
     "execution_count": 54,
     "metadata": {},
     "output_type": "execute_result"
    }
   ],
   "source": [
    "all_texts_chunk[:100]"
   ]
  },
  {
   "cell_type": "code",
   "execution_count": 55,
   "metadata": {},
   "outputs": [],
   "source": [
    "all_tokens = all_texts_chunk.split()"
   ]
  },
  {
   "cell_type": "code",
   "execution_count": 56,
   "metadata": {},
   "outputs": [
    {
     "name": "stdout",
     "output_type": "stream",
     "text": [
      "15848\n",
      "4867\n"
     ]
    },
    {
     "data": {
      "text/plain": [
       "['флуконазол',\n",
       " 'капс',\n",
       " 'мг',\n",
       " 'вертекс',\n",
       " 'филе',\n",
       " 'горизонт',\n",
       " 'филе',\n",
       " 'птицы',\n",
       " 'ккал',\n",
       " 'йогуртпитepicaклуб']"
      ]
     },
     "execution_count": 56,
     "metadata": {},
     "output_type": "execute_result"
    }
   ],
   "source": [
    "print(len(all_tokens))\n",
    "print(len(set(all_tokens)))\n",
    "all_tokens[:10]"
   ]
  },
  {
   "cell_type": "code",
   "execution_count": 57,
   "metadata": {},
   "outputs": [
    {
     "data": {
      "application/vnd.jupyter.widget-view+json": {
       "model_id": "fb2b4d1df8b0476d9c60f8923a7da8b4",
       "version_major": 2,
       "version_minor": 0
      },
      "text/plain": [
       "HBox(children=(FloatProgress(value=0.0, max=15848.0), HTML(value='')))"
      ]
     },
     "metadata": {},
     "output_type": "display_data"
    },
    {
     "name": "stdout",
     "output_type": "stream",
     "text": [
      "\n"
     ]
    }
   ],
   "source": [
    "all_tokens_clean = []\n",
    "for token in tqdm(all_tokens):\n",
    "    if token not in russian_stopwords and len(token) > 2:\n",
    "        all_tokens_clean.append(token)"
   ]
  },
  {
   "cell_type": "code",
   "execution_count": 58,
   "metadata": {},
   "outputs": [
    {
     "data": {
      "text/plain": [
       "11334"
      ]
     },
     "execution_count": 58,
     "metadata": {},
     "output_type": "execute_result"
    }
   ],
   "source": [
    "len(all_tokens_clean)"
   ]
  },
  {
   "cell_type": "code",
   "execution_count": 59,
   "metadata": {},
   "outputs": [
    {
     "data": {
      "text/plain": [
       "['флуконазол',\n",
       " 'вертекс',\n",
       " 'филе',\n",
       " 'горизонт',\n",
       " 'филе',\n",
       " 'птицы',\n",
       " 'йогуртпитepicaклуб',\n",
       " 'мар',\n",
       " 'напиток',\n",
       " 'дюшес']"
      ]
     },
     "execution_count": 59,
     "metadata": {},
     "output_type": "execute_result"
    }
   ],
   "source": [
    "import nltk\n",
    "text = nltk.Text(all_tokens_clean)\n",
    "text[:10]"
   ]
  },
  {
   "cell_type": "code",
   "execution_count": 60,
   "metadata": {},
   "outputs": [
    {
     "name": "stdout",
     "output_type": "stream",
     "text": [
      "Wall time: 6.98 ms\n"
     ]
    }
   ],
   "source": [
    "%%time\n",
    "from nltk.probability import FreqDist\n",
    "fdist = FreqDist(text)"
   ]
  },
  {
   "cell_type": "code",
   "execution_count": 61,
   "metadata": {},
   "outputs": [
    {
     "data": {
      "text/plain": [
       "[('бзмж', 90),\n",
       " ('кола', 88),\n",
       " ('напиток', 82),\n",
       " ('пэт', 73),\n",
       " ('вода', 71),\n",
       " ('сыр', 69),\n",
       " ('кока', 69),\n",
       " ('сигареты', 64),\n",
       " ('газ', 61),\n",
       " ('шок', 51),\n",
       " ('чипсы', 48),\n",
       " ('хлеб', 48),\n",
       " ('чай', 45),\n",
       " ('россия', 41),\n",
       " ('пак', 40),\n",
       " ('орбит', 40),\n",
       " ('йогурт', 38),\n",
       " ('шоколад', 37),\n",
       " ('яблоко', 37),\n",
       " ('жев', 34),\n",
       " ('корм', 34),\n",
       " ('пиво', 33),\n",
       " ('масло', 33),\n",
       " ('чудо', 32),\n",
       " ('белый', 31),\n",
       " ('сок', 31),\n",
       " ('пепси', 30),\n",
       " ('кофе', 30),\n",
       " ('молоко', 29),\n",
       " ('печенье', 28),\n",
       " ('кошек', 28),\n",
       " ('персик', 27),\n",
       " ('мол', 27),\n",
       " ('резинка', 26),\n",
       " ('конфеты', 26),\n",
       " ('сметана', 25),\n",
       " ('нап', 25),\n",
       " ('мята', 25),\n",
       " ('gold', 25),\n",
       " ('черный', 24),\n",
       " ('бел', 24),\n",
       " ('майонез', 23),\n",
       " ('йог', 23),\n",
       " ('продукт', 22),\n",
       " ('соус', 22),\n",
       " ('вес', 22),\n",
       " ('водка', 22),\n",
       " ('мыло', 21),\n",
       " ('гель', 21),\n",
       " ('колбаса', 20),\n",
       " ('мрц', 20),\n",
       " ('лейс', 19),\n",
       " ('стд', 19),\n",
       " ('крем', 19),\n",
       " ('ritter', 19),\n",
       " ('батончик', 19),\n",
       " ('семечки', 18),\n",
       " ('мороженое', 18),\n",
       " ('клубника', 18),\n",
       " ('таб', 18),\n",
       " ('one', 18),\n",
       " ('стм', 17),\n",
       " ('premium', 17),\n",
       " ('пюре', 17),\n",
       " ('фрутоняня', 17),\n",
       " ('ассорт', 17),\n",
       " ('пит', 16),\n",
       " ('асс', 16),\n",
       " ('салфетки', 16),\n",
       " ('зеленый', 16),\n",
       " ('плав', 15),\n",
       " ('мартина', 15),\n",
       " ('провансаль', 15),\n",
       " ('aro', 15),\n",
       " ('size', 15),\n",
       " ('орех', 15),\n",
       " ('паста', 15),\n",
       " ('стакан', 14),\n",
       " ('бумага', 14),\n",
       " ('творог', 14),\n",
       " ('приправыч', 14),\n",
       " ('ассорти', 14),\n",
       " ('крупа', 14),\n",
       " ('курица', 14),\n",
       " ('сухарики', 14),\n",
       " ('пауч', 14),\n",
       " ('кур', 14),\n",
       " ('вискас', 14),\n",
       " ('помада', 14),\n",
       " ('тон', 14),\n",
       " ('малина', 13),\n",
       " ('источник', 13),\n",
       " ('бородинский', 13),\n",
       " ('рез', 13),\n",
       " ('прокладки', 13),\n",
       " ('желе', 13),\n",
       " ('rothmans', 13),\n",
       " ('конф', 13),\n",
       " ('orbit', 13),\n",
       " ('лимон', 13),\n",
       " ('дарницкий', 13),\n",
       " ('губная', 13),\n",
       " ('релуй', 13),\n",
       " ('лук', 12),\n",
       " ('святой', 12),\n",
       " ('скомбо', 12),\n",
       " ('булочка', 12),\n",
       " ('носки', 12),\n",
       " ('палочки', 12),\n",
       " ('батон', 12),\n",
       " ('лапша', 12),\n",
       " ('суп', 12),\n",
       " ('сливки', 12),\n",
       " ('жевательная', 12),\n",
       " ('пломбир', 11),\n",
       " ('белая', 11),\n",
       " ('гринфилд', 11),\n",
       " ('ватные', 11),\n",
       " ('яйцо', 11),\n",
       " ('felix', 11)]"
      ]
     },
     "execution_count": 61,
     "metadata": {},
     "output_type": "execute_result"
    }
   ],
   "source": [
    "fdist.most_common(120)"
   ]
  },
  {
   "cell_type": "code",
   "execution_count": 47,
   "metadata": {},
   "outputs": [
    {
     "data": {
      "image/png": "[encoded data removed]",
      "text/plain": [
       "<Figure size 432x288 with 1 Axes>"
      ]
     },
     "metadata": {
      "needs_background": "light"
     },
     "output_type": "display_data"
    },
    {
     "data": {
      "text/plain": [
       "<matplotlib.axes._subplots.AxesSubplot at 0x214886ed208>"
      ]
     },
     "execution_count": 47,
     "metadata": {},
     "output_type": "execute_result"
    }
   ],
   "source": [
    "fdist.plot(120,cumulative=False)"
   ]
  },
  {
   "cell_type": "code",
   "execution_count": 48,
   "metadata": {},
   "outputs": [],
   "source": [
    "from nltk.collocations import *\n",
    "bigram_measures = nltk.collocations.BigramAssocMeasures()"
   ]
  },
  {
   "cell_type": "code",
   "execution_count": 62,
   "metadata": {},
   "outputs": [],
   "source": [
    "finder = BigramCollocationFinder.from_words(all_tokens_clean)"
   ]
  },
  {
   "cell_type": "code",
   "execution_count": 50,
   "metadata": {},
   "outputs": [
    {
     "data": {
      "text/plain": [
       "[('ACR', 'Пена'),\n",
       " ('ADEPAW', 'Легинсы'),\n",
       " ('AHMAD', 'TEA'),\n",
       " ('ALGAE', 'Ген'),\n",
       " ('AMP', 'провод'),\n",
       " ('ARIEL', 'АВТ'),\n",
       " ('ARMORTECH', 'СИНТЕТИК'),\n",
       " ('ASD', 'БлокД'),\n",
       " ('ATTACHE', 'PROFF'),\n",
       " ('AVS', 'SPECTRAS')]"
      ]
     },
     "execution_count": 50,
     "metadata": {},
     "output_type": "execute_result"
    }
   ],
   "source": [
    "finder.nbest(bigram_measures.pmi, 10) "
   ]
  },
  {
   "cell_type": "code",
   "execution_count": 64,
   "metadata": {},
   "outputs": [
    {
     "data": {
      "text/plain": [
       "[(('кока', 'кола'), 69),\n",
       " (('кола', 'стд'), 19),\n",
       " (('кола', 'пэт'), 18),\n",
       " (('чипсы', 'лейс'), 18),\n",
       " (('шок', 'ritter'), 17),\n",
       " (('корм', 'кошек'), 16),\n",
       " (('пепси', 'кола'), 16),\n",
       " (('one', 'size'), 15),\n",
       " (('gold', 'тон'), 13),\n",
       " (('premium', 'gold'), 13),\n",
       " (('губная', 'premium'), 13),\n",
       " (('помада', 'губная'), 13),\n",
       " (('релуй', 'бел'), 13),\n",
       " (('тон', 'релуй'), 13),\n",
       " (('бел', 'помада'), 12),\n",
       " (('газ', 'напиток'), 12),\n",
       " (('жев', 'резинка'), 12),\n",
       " (('жевательная', 'резинка'), 12),\n",
       " (('мрц', 'сигареты'), 12),\n",
       " (('напиток', 'кока'), 12),\n",
       " (('святой', 'источник'), 12),\n",
       " (('сигареты', 'rothmans'), 12),\n",
       " (('стд', 'скомбо'), 12),\n",
       " (('сыр', 'плав'), 12),\n",
       " (('хлеб', 'дарницкий'), 12),\n",
       " (('газ', 'нап'), 11),\n",
       " (('резинка', 'орбит'), 11),\n",
       " (('бзмж', 'йог'), 10),\n",
       " (('майонез', 'провансаль'), 10),\n",
       " (('fine', 'life'), 9)]"
      ]
     },
     "execution_count": 64,
     "metadata": {},
     "output_type": "execute_result"
    }
   ],
   "source": [
    "sorted(finder.ngram_fd.items(), key=lambda t: (-t[1], t[0]))[:30] "
   ]
  },
  {
   "cell_type": "code",
   "execution_count": null,
   "metadata": {},
   "outputs": [],
   "source": []
  },
  {
   "cell_type": "code",
   "execution_count": 63,
   "metadata": {},
   "outputs": [
    {
     "data": {
      "application/vnd.jupyter.widget-view+json": {
       "model_id": "5bcafad1c05d45a8a548a3f73ca7b31d",
       "version_major": 2,
       "version_minor": 0
      },
      "text/plain": [
       "HBox(children=(FloatProgress(value=0.0, max=6801308.0), HTML(value='')))"
      ]
     },
     "metadata": {},
     "output_type": "display_data"
    },
    {
     "name": "stdout",
     "output_type": "stream",
     "text": [
      "\n",
      "Wall time: 52min 40s\n"
     ]
    }
   ],
   "source": [
    "%%time\n",
    "all_tokens = []\n",
    "for item_name in tqdm(train2.item_name):\n",
    "    item_name = item_name.lower()\n",
    "    item_name = remove_punctuation(item_name)\n",
    "    item_name = remove_numbers(item_name)\n",
    "    item_name = remove_multiple_spaces(item_name)\n",
    "    \n",
    "    tokens = word_tokenize(item_name)\n",
    "    for token in tokens:\n",
    "        if token not in russian_stopwords and token not in all_tokens and token != ' ':\n",
    "            all_tokens.append(token)"
   ]
  },
  {
   "cell_type": "code",
   "execution_count": 68,
   "metadata": {},
   "outputs": [
    {
     "data": {
      "text/plain": [
       "139425"
      ]
     },
     "execution_count": 68,
     "metadata": {},
     "output_type": "execute_result"
    }
   ],
   "source": [
    "len(all_tokens)"
   ]
  },
  {
   "cell_type": "code",
   "execution_count": 69,
   "metadata": {},
   "outputs": [
    {
     "data": {
      "text/plain": [
       "['флуконазол',\n",
       " 'вертекс',\n",
       " 'филе',\n",
       " 'горизонт',\n",
       " 'птицы',\n",
       " 'йогуртпитepicaклуб',\n",
       " 'мар',\n",
       " 'напиток',\n",
       " 'дюшес',\n",
       " 'пэт']"
      ]
     },
     "execution_count": 69,
     "metadata": {},
     "output_type": "execute_result"
    }
   ],
   "source": [
    "all_tokens[:10]"
   ]
  },
  {
   "cell_type": "code",
   "execution_count": 73,
   "metadata": {},
   "outputs": [],
   "source": [
    "import csv\n",
    "cw = csv.writer(open(\"uniq_tokens3.csv\",'w', encoding=\"utf-8\"))"
   ]
  },
  {
   "cell_type": "code",
   "execution_count": 74,
   "metadata": {},
   "outputs": [
    {
     "data": {
      "text/plain": [
       "1147878"
      ]
     },
     "execution_count": 74,
     "metadata": {},
     "output_type": "execute_result"
    }
   ],
   "source": [
    "cw.writerow(all_tokens)"
   ]
  },
  {
   "cell_type": "code",
   "execution_count": 76,
   "metadata": {},
   "outputs": [],
   "source": [
    "import pickle"
   ]
  },
  {
   "cell_type": "code",
   "execution_count": 77,
   "metadata": {},
   "outputs": [],
   "source": [
    "with open('all_tokens.pkl', 'wb') as f:\n",
    "    pickle.dump(all_tokens, f)"
   ]
  },
  {
   "cell_type": "code",
   "execution_count": 78,
   "metadata": {},
   "outputs": [],
   "source": [
    "with open('all_tokens.pkl', 'rb') as f:\n",
    "    mynewlist = pickle.load(f)"
   ]
  },
  {
   "cell_type": "code",
   "execution_count": 79,
   "metadata": {},
   "outputs": [
    {
     "data": {
      "text/plain": [
       "['флуконазол',\n",
       " 'вертекс',\n",
       " 'филе',\n",
       " 'горизонт',\n",
       " 'птицы',\n",
       " 'йогуртпитepicaклуб',\n",
       " 'мар',\n",
       " 'напиток',\n",
       " 'дюшес',\n",
       " 'пэт']"
      ]
     },
     "execution_count": 79,
     "metadata": {},
     "output_type": "execute_result"
    }
   ],
   "source": [
    "mynewlist[:10]"
   ]
  },
  {
   "cell_type": "code",
   "execution_count": 89,
   "metadata": {},
   "outputs": [
    {
     "name": "stdout",
     "output_type": "stream",
     "text": [
      "<class 'nltk.text.Text'>\n"
     ]
    },
    {
     "data": {
      "text/plain": [
       "['флуконазол',\n",
       " 'вертекс',\n",
       " 'филе',\n",
       " 'горизонт',\n",
       " 'птицы',\n",
       " 'йогуртпитepicaклуб',\n",
       " 'мар',\n",
       " 'напиток',\n",
       " 'дюшес',\n",
       " 'пэт']"
      ]
     },
     "execution_count": 89,
     "metadata": {},
     "output_type": "execute_result"
    }
   ],
   "source": [
    "#text = \" \".join(all_tokens)\n",
    "import nltk\n",
    "text = nltk.Text(all_tokens)\n",
    "print(type(text))\n",
    "text[:10]"
   ]
  },
  {
   "cell_type": "code",
   "execution_count": 90,
   "metadata": {},
   "outputs": [
    {
     "name": "stdout",
     "output_type": "stream",
     "text": [
      "Wall time: 93.8 ms\n"
     ]
    },
    {
     "data": {
      "text/plain": [
       "FreqDist({'флуконазол': 1, 'вертекс': 1, 'филе': 1, 'горизонт': 1, 'птицы': 1, 'йогуртпитepicaклуб': 1, 'мар': 1, 'напиток': 1, 'дюшес': 1, 'пэт': 1, ...})"
      ]
     },
     "execution_count": 90,
     "metadata": {},
     "output_type": "execute_result"
    }
   ],
   "source": [
    "%%time\n",
    "from nltk.probability import FreqDist\n",
    "fdist = FreqDist(text)\n",
    "fdist"
   ]
  },
  {
   "cell_type": "code",
   "execution_count": 93,
   "metadata": {},
   "outputs": [
    {
     "data": {
      "text/plain": [
       "[('флуконазол', 1),\n",
       " ('вертекс', 1),\n",
       " ('филе', 1),\n",
       " ('горизонт', 1),\n",
       " ('птицы', 1),\n",
       " ('йогуртпитepicaклуб', 1),\n",
       " ('мар', 1),\n",
       " ('напиток', 1),\n",
       " ('дюшес', 1),\n",
       " ('пэт', 1)]"
      ]
     },
     "execution_count": 93,
     "metadata": {},
     "output_type": "execute_result"
    }
   ],
   "source": [
    "fdist.most_common(10)"
   ]
  },
  {
   "cell_type": "code",
   "execution_count": 88,
   "metadata": {},
   "outputs": [
    {
     "data": {
      "image/png": "[encoded data removed]",
      "text/plain": [
       "<Figure size 432x288 with 1 Axes>"
      ]
     },
     "metadata": {
      "needs_background": "light"
     },
     "output_type": "display_data"
    },
    {
     "data": {
      "text/plain": [
       "<matplotlib.axes._subplots.AxesSubplot at 0x1e0ad43df88>"
      ]
     },
     "execution_count": 88,
     "metadata": {},
     "output_type": "execute_result"
    }
   ],
   "source": [
    "fdist.plot(30,cumulative=False)"
   ]
  },
  {
   "cell_type": "code",
   "execution_count": null,
   "metadata": {},
   "outputs": [],
   "source": []
  }
 ],
 "metadata": {
  "kernelspec": {
   "display_name": "Python 3",
   "language": "python",
   "name": "python3"
  },
  "language_info": {
   "codemirror_mode": {
    "name": "ipython",
    "version": 3
   },
   "file_extension": ".py",
   "mimetype": "text/x-python",
   "name": "python",
   "nbconvert_exporter": "python",
   "pygments_lexer": "ipython3",
   "version": "3.7.6"
  }
 },
 "nbformat": 4,
 "nbformat_minor": 2
}
